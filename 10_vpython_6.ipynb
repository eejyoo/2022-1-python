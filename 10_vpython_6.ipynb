{
  "nbformat": 4,
  "nbformat_minor": 0,
  "metadata": {
    "colab": {
      "name": "10_vpython_6.ipynb",
      "provenance": [],
      "authorship_tag": "ABX9TyPAB5/4d9QEt6oyyCOA0FVK",
      "include_colab_link": true
    },
    "kernelspec": {
      "name": "python3",
      "display_name": "Python 3"
    },
    "language_info": {
      "name": "python"
    }
  },
  "cells": [
    {
      "cell_type": "markdown",
      "metadata": {
        "id": "view-in-github",
        "colab_type": "text"
      },
      "source": [
        "<a href=\"https://colab.research.google.com/github/eejyoo/2022-1-python/blob/main/10_vpython_6.ipynb\" target=\"_parent\"><img src=\"https://colab.research.google.com/assets/colab-badge.svg\" alt=\"Open In Colab\"/></a>"
      ]
    },
    {
      "cell_type": "markdown",
      "source": [
        "#1. Mouse Events"
      ],
      "metadata": {
        "id": "aOJYJVSJNFeK"
      }
    },
    {
      "cell_type": "markdown",
      "source": [
        "(1) 화면 멈추고 마우스 클릭 대기<br>\n",
        " - ev = scene.pause()\n",
        " - ev = scene.pause('click')"
      ],
      "metadata": {
        "id": "eYSm6HSCTKOw"
      }
    },
    {
      "cell_type": "markdown",
      "source": [
        "(2) waitfor<br>\n",
        " - scene.waitfor('click') : 마우스 클릭하기\n",
        " - scene.waitfor('mousedown') : 마우스 누르기\n",
        " - scene.waitfor('mouseup') : 마우스 눌렀다 떼기\n",
        " - scene.waitfor('mousemove') : 마우스 누른 채 움직이기\n",
        " - scene.waitfor('mouseenter') : 마우스가 캔버스 안으로 들어오기\n",
        " - scene.waitfor('mouseleave') : 마우스가 캔버스 밖으로 나가기\n",
        " - scene.waitfor('keydown') : 키보드 누르기\n",
        " - scene.waitfor('keyup') : 키보드 눌렀다 떼기\n",
        " - scene.waitfor('click keydown') :여러 개 이벤트"
      ],
      "metadata": {
        "id": "EkgIKhEHVnTe"
      }
    },
    {
      "cell_type": "code",
      "source": [
        "box()\n",
        "while True:\n",
        "    ev = scene.waitfor('mousedown mouseup')\n",
        "    if ev.event == 'mousedown':\n",
        "        print('You pressed the mouse button')\n",
        "    else:\n",
        "        print('You released the mouse button')\n",
        "    print(ev.pos) # the position of the mouse"
      ],
      "metadata": {
        "id": "KuMZYxI8X5lK"
      },
      "execution_count": null,
      "outputs": []
    },
    {
      "cell_type": "markdown",
      "source": [
        "** ev.event : 발생한 이벤트<br>\n",
        "** ev.pos : 이벤트 발생 위치<br>\n",
        "** ev.which : 키보드나 마우스의 숫자(a:65, b:66, mouse:1)<br>\n",
        "** ev.key : 키보드 이름"
      ],
      "metadata": {
        "id": "FKL7ofxaZZTP"
      }
    },
    {
      "cell_type": "code",
      "source": [
        "def process(ev):\n",
        "    print(ev.event, ev.which)\n",
        "\n",
        "scene.bind('click keydown', process)"
      ],
      "metadata": {
        "id": "5PSshWf2YSTY"
      },
      "execution_count": null,
      "outputs": []
    },
    {
      "cell_type": "markdown",
      "source": [
        "(3) scene.mouse<br>\n",
        "  \n",
        "\n",
        "1.   shift, ctrl, alt\n",
        " - 키보드 이벤트인 경우 shift키 누르면 : scene.mouse.shift 가 True\n",
        " - 다른 키도 마찬가지\n",
        "2.   pos\n",
        " - 마우스 커서의 위치\n",
        "3. pick\n",
        " - 마우스로 가리키는 오브젝트\n",
        "\n",
        "\n",
        " "
      ],
      "metadata": {
        "id": "17HoM7OgY_GX"
      }
    },
    {
      "cell_type": "code",
      "source": [
        "def process(ev):\n",
        "    if scene.mouse.shift:\n",
        "        print('shift')\n",
        "    \n",
        "scene.bind('keydown', process)"
      ],
      "metadata": {
        "id": "s0SaBLHkZR5G"
      },
      "execution_count": null,
      "outputs": []
    },
    {
      "cell_type": "code",
      "source": [
        "b = box()\n",
        "def process(ev):\n",
        "    obj = scene.mouse.pick\n",
        "    if obj == b:\n",
        "        print('box')\n",
        "    \n",
        "scene.bind('mousedown', process)"
      ],
      "metadata": {
        "id": "qFLQksuqaoTb"
      },
      "execution_count": null,
      "outputs": []
    },
    {
      "cell_type": "code",
      "source": [
        "s = sphere(color=color.cyan)\n",
        "\n",
        "def change():\n",
        "    if s.color.equals(color.cyan):\n",
        "        s.color = color.red\n",
        "    else:\n",
        "        s.color = color.cyan\n",
        "\n",
        "scene.bind('click', change)"
      ],
      "metadata": {
        "id": "sIaqSleycuB4"
      },
      "execution_count": null,
      "outputs": []
    },
    {
      "cell_type": "markdown",
      "source": [
        "(4) Drag<br>"
      ],
      "metadata": {
        "id": "9zD4JkWuf3Jd"
      }
    },
    {
      "cell_type": "code",
      "source": [
        "scene.range = 5\n",
        "box()\n",
        "\n",
        "drag = False\n",
        "s = None # declare s to be used below\n",
        "\n",
        "def down():\n",
        "    global drag, s\n",
        "    s = sphere(pos=scene.mouse.pos,\n",
        "        color=color.red,\n",
        "        size=0.2*vec(1,1,1))\n",
        "    drag = True\n",
        "\n",
        "def move():\n",
        "    global drag, s\n",
        "    if drag: # mouse button is down\n",
        "        s.pos = scene.mouse.pos\n",
        "\n",
        "def up():\n",
        "    global drag, s\n",
        "    s.color = color.cyan\n",
        "    drag = False\n",
        "\n",
        "scene.bind(\"mousedown\", down)\n",
        "scene.bind(\"mousemove\", move)\n",
        "scene.bind(\"mouseup\", up)"
      ],
      "metadata": {
        "id": "lBI4epcef81U"
      },
      "execution_count": null,
      "outputs": []
    },
    {
      "cell_type": "markdown",
      "source": [
        "#2.Keyboard Events"
      ],
      "metadata": {
        "id": "W2d9SrAIdlki"
      }
    },
    {
      "cell_type": "code",
      "source": [
        "box()\n",
        "ev = scene.waitfor('click keydown')\n",
        "if ev.event == 'click':\n",
        "    print('You clicked at', ev.pos)\n",
        "else:\n",
        "    print('You pressed key '+ev.key)"
      ],
      "metadata": {
        "id": "gNYSgrO1dsXw"
      },
      "execution_count": null,
      "outputs": []
    },
    {
      "cell_type": "code",
      "source": [
        "scene.range = 20\n",
        "ball = sphere(color=color.cyan)\n",
        "v = vec(0,0,0)\n",
        "dv = 0.2\n",
        "dt = 0.01\n",
        "while True:\n",
        "    rate(30)\n",
        "    k = keysdown() # a list of keys that are down\n",
        "    if 'left' in k: v.x -= dv\n",
        "    if 'right' in k: v.x += dv\n",
        "    if 'down' in k: v.y -= dv\n",
        "    if 'up' in k: v.y += dv\n",
        "    ball.pos += v*dt"
      ],
      "metadata": {
        "id": "LyFZwFmJdwT0"
      },
      "execution_count": null,
      "outputs": []
    }
  ]
}