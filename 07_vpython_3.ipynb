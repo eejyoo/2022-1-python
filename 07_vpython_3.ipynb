{
  "nbformat": 4,
  "nbformat_minor": 0,
  "metadata": {
    "colab": {
      "name": "07_vpython_3.ipynb",
      "provenance": [],
      "authorship_tag": "ABX9TyNefQVf8A2FGKeaxKR5f+FC",
      "include_colab_link": true
    },
    "kernelspec": {
      "name": "python3",
      "display_name": "Python 3"
    },
    "language_info": {
      "name": "python"
    }
  },
  "cells": [
    {
      "cell_type": "markdown",
      "metadata": {
        "id": "view-in-github",
        "colab_type": "text"
      },
      "source": [
        "<a href=\"https://colab.research.google.com/github/eejyoo/2022-1-python/blob/main/07_vpython_3.ipynb\" target=\"_parent\"><img src=\"https://colab.research.google.com/assets/colab-badge.svg\" alt=\"Open In Colab\"/></a>"
      ]
    },
    {
      "cell_type": "markdown",
      "source": [
        "#불규칙적으로 물체를 배열하기"
      ],
      "metadata": {
        "id": "VasbNeIplpcS"
      }
    },
    {
      "cell_type": "markdown",
      "source": [
        "(1) random 모듈\n",
        " - 값을 무작위로 생성하기 위한 함수를 모아놓음\n",
        " - 난수 생성, 무작위 추출, 무작위 섞기 등의 기능을 함\n",
        " - import 해서 사용함\n",
        "\n",
        "(2) random() 함수\n",
        " - 0 이상 1 미만의 실수 난수 생성\n",
        "\n",
        "(3) randint(a, b) 함수\n",
        " - a 이상 b 이하의 정수 난수 생성\n",
        "\n",
        "```\n",
        "import random\n",
        "from random import random, randint\n",
        "```\n"
      ],
      "metadata": {
        "id": "cZoZej1imARl"
      }
    },
    {
      "cell_type": "code",
      "execution_count": null,
      "metadata": {
        "id": "O0BrOYiGlWI1"
      },
      "outputs": [],
      "source": [
        "import random\n",
        "a = random.random()\n",
        "b = random.randint(-5,5)\n",
        "print(a, b)"
      ]
    },
    {
      "cell_type": "code",
      "source": [
        "from random import random, randint\n",
        "a = random()\n",
        "b = randint(-5,5)\n",
        "print(a, b)"
      ],
      "metadata": {
        "id": "g1CkrMJ1pyPT"
      },
      "execution_count": null,
      "outputs": []
    },
    {
      "cell_type": "markdown",
      "source": [
        "**QUIZ 1**  무작위로 구의 색상을 바꾸시오.\n",
        " - 구의 색상은 10번 바뀜\n",
        " - color = vector(r, g, b)\n",
        " - r, g, b 각각은 0 이상 1 미만의 실수"
      ],
      "metadata": {
        "id": "ZgYntrYYqv5C"
      }
    },
    {
      "cell_type": "code",
      "source": [
        "import random\n",
        "\n",
        "ball = sphere()\n",
        "for 10번 반복:\n",
        "  r = 난수 생성\n",
        "  g = 난수 생성\n",
        "  b = 난수 생성\n",
        "  ball.color = vector(r, g, b)\n",
        "  rate(2)"
      ],
      "metadata": {
        "id": "K_SdeFBptmbP"
      },
      "execution_count": null,
      "outputs": []
    },
    {
      "cell_type": "markdown",
      "source": [
        "#리스트(list)"
      ],
      "metadata": {
        "id": "k2dzxjPLuHwD"
      }
    },
    {
      "cell_type": "markdown",
      "source": [
        "(1) 리스트란\n",
        " - 관련이 있는 여러 가지 데이터를 한데 묶어 관리할 수 있는 자료형\n",
        " - [ ]로 묶으며, 0번지부터 시작함\n",
        " \n",
        "\n",
        "```\n",
        "리스트이름 = [요소1, 요소2, ...]\n",
        "```\n",
        "\n"
      ],
      "metadata": {
        "id": "0MBHwy_5uK2i"
      }
    },
    {
      "cell_type": "code",
      "source": [
        "a = ['바나나', '토마토', '사과', '블루베리']\n",
        "print(a[0])"
      ],
      "metadata": {
        "id": "bVx01WEowQnB"
      },
      "execution_count": null,
      "outputs": []
    },
    {
      "cell_type": "code",
      "source": [
        "for i in range(1,4):\n",
        "  print(a[i])"
      ],
      "metadata": {
        "id": "6dlpVfZ6xBJq"
      },
      "execution_count": null,
      "outputs": []
    },
    {
      "cell_type": "code",
      "source": [
        "for i in a:\n",
        "  print(i)"
      ],
      "metadata": {
        "id": "9i6-dRDHxCWa"
      },
      "execution_count": null,
      "outputs": []
    },
    {
      "cell_type": "markdown",
      "source": [
        "(2) 리스트 관련 함수\n",
        " - len(): 리스트의 길이 출력\n",
        " - append(): 리스트에 데이터 추가\n",
        " - pop(): 리스트의 마지막 요소 출력하고 삭제\n",
        " - insert, remove, extend, copy, reverse, sort, count, index 등의 함수가 있음"
      ],
      "metadata": {
        "id": "KSajeMvj3-Mp"
      }
    },
    {
      "cell_type": "code",
      "source": [
        "b = []\n",
        "b.append('돼지')\n",
        "print(b)"
      ],
      "metadata": {
        "id": "Jv_3pZht54JF"
      },
      "execution_count": null,
      "outputs": []
    },
    {
      "cell_type": "code",
      "source": [
        "b.append('오리')\n",
        "b.append('닭')\n",
        "b.append('소')\n",
        "print(b)"
      ],
      "metadata": {
        "id": "Te5DYDwb7iwF"
      },
      "execution_count": null,
      "outputs": []
    },
    {
      "cell_type": "code",
      "source": [
        "print(len(b))"
      ],
      "metadata": {
        "id": "XXjv1_qk7s78"
      },
      "execution_count": null,
      "outputs": []
    },
    {
      "cell_type": "code",
      "source": [
        "print(b.pop())"
      ],
      "metadata": {
        "id": "Or0xRZ5-7v81"
      },
      "execution_count": null,
      "outputs": []
    },
    {
      "cell_type": "code",
      "source": [
        "print(b)"
      ],
      "metadata": {
        "id": "qWxzw7-Z7zzS"
      },
      "execution_count": null,
      "outputs": []
    },
    {
      "cell_type": "markdown",
      "source": [
        "**QUIZ 2** 정수를 3가지 랜덤하게 생성하고 각각 다른 모형을 10번 출력하시오.\n",
        " - 1인 경우 box()\n",
        " - 2인 경우 sphere()\n",
        " - 3인 경우 arrow()"
      ],
      "metadata": {
        "id": "AlUS6rSpxfvK"
      }
    },
    {
      "cell_type": "code",
      "source": [
        "#다음을 참고하여 작성하고 오류를 수정하시오.\n",
        "from random import randint\n",
        "\n",
        "for i in range(10):\n",
        "  r = 랜덤 정수 생성\n",
        "  if r == 1:\n",
        "    box()\n",
        "  elif r == 2:\n",
        "    sphere()\n",
        "  else:\n",
        "    arrow()"
      ],
      "metadata": {
        "id": "fyAJNqBJBVfX"
      },
      "execution_count": null,
      "outputs": []
    },
    {
      "cell_type": "markdown",
      "source": [
        "#while문"
      ],
      "metadata": {
        "id": "WkOyrnP0_OM7"
      }
    },
    {
      "cell_type": "markdown",
      "source": [
        "(1) 형식\n",
        " - while 다음의 조건이 만족하는 동안 반복함\n",
        "\n",
        "\n",
        "```\n",
        "while 조건:\n",
        "  문장\n",
        "  조건을 멈추게 하는 증감식\n",
        "```\n",
        "\n"
      ],
      "metadata": {
        "id": "xBmlYiIf_mmF"
      }
    },
    {
      "cell_type": "code",
      "source": [
        "a = 0\n",
        "while a < 10:\n",
        "  print(a)\n",
        "  a = a + 1"
      ],
      "metadata": {
        "id": "e0P4bLYo_4Rj"
      },
      "execution_count": null,
      "outputs": []
    },
    {
      "cell_type": "code",
      "source": [
        "#1부터 100까지 홀수만 리스트에 저장한 후 출력하기\n",
        "ans = []\n",
        "n = 0\n",
        "while n < 100:\n",
        "  n = n + 1\n",
        "  if n % 2 == 1:\n",
        "    ans.append(n)\n",
        "print(ans)"
      ],
      "metadata": {
        "id": "NpSPka0MASFb"
      },
      "execution_count": null,
      "outputs": []
    },
    {
      "cell_type": "markdown",
      "source": [
        "**QUIZ 3** 구 1000개의 x, y, z좌표를 -100 ~ 100 사이의 랜덤한 정수로 생성하여 출력하시오.(while문 사용)"
      ],
      "metadata": {
        "id": "v2TEhKie-Kk-"
      }
    },
    {
      "cell_type": "code",
      "source": [
        "scene.range = 100 #배경의 크기를 고정시키기 위해 사용\n"
      ],
      "metadata": {
        "id": "qs0aTqGy-JMb"
      },
      "execution_count": null,
      "outputs": []
    }
  ]
}