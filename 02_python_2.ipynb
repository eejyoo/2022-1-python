{
  "nbformat": 4,
  "nbformat_minor": 0,
  "metadata": {
    "colab": {
      "name": "02_python_2.ipynb",
      "provenance": [],
      "collapsed_sections": [],
      "authorship_tag": "ABX9TyO13lglIZxDaxGl0iPSB3xd",
      "include_colab_link": true
    },
    "kernelspec": {
      "name": "python3",
      "display_name": "Python 3"
    },
    "language_info": {
      "name": "python"
    }
  },
  "cells": [
    {
      "cell_type": "markdown",
      "metadata": {
        "id": "view-in-github",
        "colab_type": "text"
      },
      "source": [
        "<a href=\"https://colab.research.google.com/github/eejyoo/2022-1-python/blob/main/02_python_2.ipynb\" target=\"_parent\"><img src=\"https://colab.research.google.com/assets/colab-badge.svg\" alt=\"Open In Colab\"/></a>"
      ]
    },
    {
      "cell_type": "markdown",
      "source": [
        "#2. 입력"
      ],
      "metadata": {
        "id": "s4xi22zCOS6Q"
      }
    },
    {
      "cell_type": "markdown",
      "source": [
        "(1) 입력\n",
        " - input 을 사용함.\n",
        " - 입력 내용을 변수에 저장함.\n",
        "\n",
        "\n",
        "```\n",
        "a = input()\n",
        "print(a)\n",
        "b = input('정수를 입력하시오.')\n",
        "print(b-10)\n",
        "```\n",
        "\n",
        "(2) 변수란?\n",
        "\n",
        " - 데이터를 저장하는 공간.\n",
        " - 프로그램 실행 중에 값이 변할 수 있음.\n",
        "\n",
        "(3) 자료형(data type)이란?\n",
        " - 정수(int), 실수(float), 문자열(str) 등 자료의 유형을 나타냄.\n",
        " - type() 함수로 알아볼 수 있음.\n",
        " - int(), float(), str() 등의 함수로 자료형을 변환할 수 있음.\n",
        "\n",
        "\n",
        "```\n",
        "a = 3.14\n",
        "type(a)\n",
        "b = int(a)\n",
        "type(b)\n",
        "\n",
        "```\n",
        "\n",
        "\n",
        "\n",
        "\n",
        "\n",
        "---\n",
        "\n",
        "**해보기1** *정수를 입력받아 3을 더하여 출력해보자.*<br>\n",
        "\n"
      ],
      "metadata": {
        "id": "v93C_wdJH8k8"
      }
    },
    {
      "cell_type": "code",
      "source": [
        ""
      ],
      "metadata": {
        "id": "l0PO_sQPMJ2I"
      },
      "execution_count": null,
      "outputs": []
    },
    {
      "cell_type": "markdown",
      "source": [
        "**해보기2** *문자열을 입력받아 변수에 저장 후 출력하고 변수의 자료형을 알아보자.<br>정수를 입력받아 변수에 저장 후 출력하고 변수의 자료형을 알아보자.*"
      ],
      "metadata": {
        "id": "1mjZPSfTMFKL"
      }
    },
    {
      "cell_type": "code",
      "source": [
        ""
      ],
      "metadata": {
        "id": "I7m7rnltDggk"
      },
      "execution_count": null,
      "outputs": []
    },
    {
      "cell_type": "markdown",
      "source": [
        "**해보기3** *문제의 답을 변수에 저장하고 변수를 활용하여 출력하시오.*<br>\n",
        "문제: 귤 20개를 3명에게 나눠주면 몇 개씩 줄 수 있고, 몇 개의 귤이 남는지 구하시오.<br>\n",
        "출력 예시: 6 개씩 나눠주고, 2 개가 남는다."
      ],
      "metadata": {
        "id": "McXCyyb7gKFp"
      }
    },
    {
      "cell_type": "code",
      "source": [
        ""
      ],
      "metadata": {
        "id": "h6vCm_hSg1Im"
      },
      "execution_count": null,
      "outputs": []
    },
    {
      "cell_type": "markdown",
      "source": [
        "**해보기4** *정수를 입력받아 7로 나눈 나머지를 출력하시오.*"
      ],
      "metadata": {
        "id": "RiR8k5YGMx65"
      }
    },
    {
      "cell_type": "code",
      "source": [
        ""
      ],
      "metadata": {
        "id": "CzxXcTnaNR32"
      },
      "execution_count": null,
      "outputs": []
    },
    {
      "cell_type": "markdown",
      "source": [
        "**검사** *귤의 개수와 사람 수를 입력받아 몇 개씩 줄 수 있고, 몇 개의 귤이 남는지 구하시오.*<br>\n",
        "출력 예시(입력한 귤과 사람 수에 따라 결과가 달라짐):<br>\n",
        "귤의 개수를 입력하시오. 30<br>\n",
        "사람 수를 입력하시오. 4<br>\n",
        "7 개씩 나눠주고, 2 개가 남는다."
      ],
      "metadata": {
        "id": "cost9aA3EJxA"
      }
    },
    {
      "cell_type": "code",
      "source": [
        ""
      ],
      "metadata": {
        "id": "1YqIa7UvFFJn"
      },
      "execution_count": null,
      "outputs": []
    }
  ]
}