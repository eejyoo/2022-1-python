{
  "nbformat": 4,
  "nbformat_minor": 0,
  "metadata": {
    "colab": {
      "name": "06_연습_2.ipynb",
      "provenance": [],
      "collapsed_sections": [],
      "authorship_tag": "ABX9TyO4o0pt53M7vTzIC/QhAGto",
      "include_colab_link": true
    },
    "kernelspec": {
      "name": "python3",
      "display_name": "Python 3"
    },
    "language_info": {
      "name": "python"
    }
  },
  "cells": [
    {
      "cell_type": "markdown",
      "metadata": {
        "id": "view-in-github",
        "colab_type": "text"
      },
      "source": [
        "<a href=\"https://colab.research.google.com/github/eejyoo/2022-1-python/blob/main/06_%EC%97%B0%EC%8A%B5_2.ipynb\" target=\"_parent\"><img src=\"https://colab.research.google.com/assets/colab-badge.svg\" alt=\"Open In Colab\"/></a>"
      ]
    },
    {
      "cell_type": "markdown",
      "source": [
        "# 2. 조건문"
      ],
      "metadata": {
        "id": "HVu9lPIjzTHu"
      }
    },
    {
      "cell_type": "markdown",
      "source": [
        "#(1) 조건이 1개"
      ],
      "metadata": {
        "id": "k1W7s59_zdwm"
      }
    },
    {
      "cell_type": "markdown",
      "source": [
        "- 관계연산자 또는 논리연산자를 이용한 수식으로 된 조건이 만족하면 문장 실행\n",
        "\n",
        "\n",
        "```\n",
        "if 조건:\n",
        "   문장\n",
        "```\n",
        "\n"
      ],
      "metadata": {
        "id": "yE8YKvik3A5j"
      }
    },
    {
      "cell_type": "code",
      "source": [
        "age = 17\n",
        "if age >= 17:\n",
        "  print('고등학생')"
      ],
      "metadata": {
        "id": "02RQpUfDzjxx"
      },
      "execution_count": null,
      "outputs": []
    },
    {
      "cell_type": "markdown",
      "source": [
        "**Q.** 변수 a의 값이 30보다 작으면 '더 열심히!'라고 출력하시오."
      ],
      "metadata": {
        "id": "0m6KSSSKTRvq"
      }
    },
    {
      "cell_type": "code",
      "source": [
        "a = 20\n"
      ],
      "metadata": {
        "id": "uCyHylIMTndH"
      },
      "execution_count": null,
      "outputs": []
    },
    {
      "cell_type": "markdown",
      "source": [
        "#(2) 조건이 여러 개"
      ],
      "metadata": {
        "id": "ODvyVE7MznLC"
      }
    },
    {
      "cell_type": "markdown",
      "source": [
        "- 첫 조건은 if, 2번째 조건부터는 elif, 그 외에는 else\n",
        "- 들여쓰기 주의!!\n",
        "\n",
        "```\n",
        "if 조건1:\n",
        "  문장1\n",
        "elif 조건1을 만족하지 않는 조건2:\n",
        "  문장2\n",
        "elif 조건1, 조건2를 만족하지 않는 조건3:\n",
        "  문장3\n",
        "else:\n",
        "  문장4\n",
        "```\n",
        "\n"
      ],
      "metadata": {
        "id": "FTW2lLEz4EAN"
      }
    },
    {
      "cell_type": "code",
      "source": [
        "age = 15\n",
        "if age >= 17:\n",
        "  print('고등학생')\n",
        "elif age >= 14:\n",
        "  print('중학생')\n",
        "else:\n",
        "  print('초등학생')"
      ],
      "metadata": {
        "id": "4_Se03U0zqiN"
      },
      "execution_count": null,
      "outputs": []
    },
    {
      "cell_type": "code",
      "source": [
        "age = int(input('나이 입력:'))\n",
        "if age >= 17:\n",
        "  print('고등학생')\n",
        "elif age >= 14:\n",
        "  print('중학생')\n",
        "else:\n",
        "  print('초등학생')"
      ],
      "metadata": {
        "id": "G79ewN9Q4ycM"
      },
      "execution_count": null,
      "outputs": []
    },
    {
      "cell_type": "markdown",
      "source": [
        "**Q.** 변수 a에 정수를 입력받고 a의 값이 70보다 크면 'A',<br> 70보다 작거나 같고 30보다 크면 'B',<br> 30보다 작거나 같으면 'C'를 출력하시오."
      ],
      "metadata": {
        "id": "Lk7IMBViTuaH"
      }
    },
    {
      "cell_type": "code",
      "source": [
        "\n"
      ],
      "metadata": {
        "id": "3wUIkX_oUl-Z"
      },
      "execution_count": null,
      "outputs": []
    },
    {
      "cell_type": "markdown",
      "source": [
        "#(3) 중첩 조건"
      ],
      "metadata": {
        "id": "6zJJhwddzrEf"
      }
    },
    {
      "cell_type": "code",
      "source": [
        "age = int(input('나이 입력:'))\n",
        "if age >= 17:\n",
        "  if age >= 20:\n",
        "    print('성인')\n",
        "  else:\n",
        "    print('고등학생')\n",
        "elif age >= 14:\n",
        "  print('중학생')\n",
        "else:\n",
        "  if age < 8:\n",
        "    print('영유아')\n",
        "  else:\n",
        "    print('초등학생')"
      ],
      "metadata": {
        "id": "DfXBoH_75kRn"
      },
      "execution_count": null,
      "outputs": []
    }
  ]
}