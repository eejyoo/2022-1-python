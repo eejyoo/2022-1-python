{
  "nbformat": 4,
  "nbformat_minor": 0,
  "metadata": {
    "colab": {
      "name": "11_연습_3.ipynb",
      "provenance": [],
      "collapsed_sections": [],
      "authorship_tag": "ABX9TyMr5bPPmYZ7gPorE1mwqOSF",
      "include_colab_link": true
    },
    "kernelspec": {
      "name": "python3",
      "display_name": "Python 3"
    },
    "language_info": {
      "name": "python"
    }
  },
  "cells": [
    {
      "cell_type": "markdown",
      "metadata": {
        "id": "view-in-github",
        "colab_type": "text"
      },
      "source": [
        "<a href=\"https://colab.research.google.com/github/eejyoo/2022-1-python/blob/main/11_%EC%97%B0%EC%8A%B5_3.ipynb\" target=\"_parent\"><img src=\"https://colab.research.google.com/assets/colab-badge.svg\" alt=\"Open In Colab\"/></a>"
      ]
    },
    {
      "cell_type": "markdown",
      "source": [
        "**1-1.<br>구와 박스를 만들어보세요.<br>\n",
        "구를 왼쪽, 박스를 오른쪽에 배치하세요.**"
      ],
      "metadata": {
        "id": "RT3WJ_PgUd05"
      }
    },
    {
      "cell_type": "markdown",
      "source": [
        "**1-2.<Br>\n",
        "구의 반지름, 박스의 크기를 조절하세요.<br>\n",
        "작게 또는 크게, 직육면체 등 자유롭게 조절합니다.**"
      ],
      "metadata": {
        "id": "a2WfIltgVU9V"
      }
    },
    {
      "cell_type": "markdown",
      "source": [
        "**1-3.<br>\n",
        "도형의 색상을 바꾸세요.<br>\n",
        "color = color.red 또는 color = vector(1,0,0) 을 활용합니다.**"
      ],
      "metadata": {
        "id": "sCaDcE3CVzgD"
      }
    },
    {
      "cell_type": "code",
      "source": [
        ""
      ],
      "metadata": {
        "id": "Z0OABnmbV_GT"
      },
      "execution_count": null,
      "outputs": []
    },
    {
      "cell_type": "markdown",
      "source": [
        "**2-1.<br>\n",
        "구, 박스, 구, 박스, 구, 박스, ... 의 순서로 도형을 100개 출력하세요.<br>\n",
        "for문 또는 while문을 사용합니다.<br>\n",
        "방향은 원하는대로, 도형의 간격을 일정하게 합니다.<br>\n",
        "시간간격을 두고 하나씩 출력되도록 하세요.**"
      ],
      "metadata": {
        "id": "CW8dTa9AWbPq"
      }
    },
    {
      "cell_type": "markdown",
      "source": [
        "**2-2.<br>\n",
        "도형이 출력될 때마다 마지막 출력된 도형을 삭제하여 한 순간에 화면에 한 개의 도형만 출력되도록 수정하세요.<br>\n",
        "변수와 visible 옵션을 적절하게 사용합니다.**"
      ],
      "metadata": {
        "id": "VvIKJPWrXGjz"
      }
    },
    {
      "cell_type": "code",
      "source": [
        ""
      ],
      "metadata": {
        "id": "rQhdgR3LX6nQ"
      },
      "execution_count": null,
      "outputs": []
    },
    {
      "cell_type": "markdown",
      "source": [
        "**3.<br>\n",
        "'sphere'라는 버튼을 만들고, 버튼을 누를 때마다 임의의 위치에 작은 구를 출력하세요.<br>\n",
        "함수를 만들고 random 기능을 사용합니다.**"
      ],
      "metadata": {
        "id": "gIJW7fTrX7AJ"
      }
    },
    {
      "cell_type": "code",
      "source": [
        ""
      ],
      "metadata": {
        "id": "cZdh4jBhAMS1"
      },
      "execution_count": null,
      "outputs": []
    },
    {
      "cell_type": "markdown",
      "source": [
        "**4-1.<br>\n",
        "size 리스트를 다음과 같이 만드세요.<br>\n",
        "size = [0.5, 0.7, 1.0, 1.2, 2.0]**"
      ],
      "metadata": {
        "id": "xjk5wDEMAt9t"
      }
    },
    {
      "cell_type": "markdown",
      "source": [
        "**4-2.<br>\n",
        "가로, 세로, 높이가 0.1인 박스를 만드세요.<br>\n",
        "size = vector(0.1, 0.1, 0.1)**"
      ],
      "metadata": {
        "id": "C4BbM687DyVT"
      }
    },
    {
      "cell_type": "markdown",
      "source": [
        "**4-3.<br>\n",
        "2초에 한번씩 size 리스트에 있는 크기대로 점점 박스가 커지도록 수정하세요.<br>\n",
        "for문 또는 while문을 사용합니다.**"
      ],
      "metadata": {
        "id": "7-lKRTlaEvRD"
      }
    },
    {
      "cell_type": "code",
      "source": [
        ""
      ],
      "metadata": {
        "id": "PDhouml_H8yk"
      },
      "execution_count": null,
      "outputs": []
    },
    {
      "cell_type": "markdown",
      "source": [
        "**5.<br>\n",
        "작은 구를 원점에 출력하고, 키보드의 화살표를 누르면 구가 상하좌우로 움직이게 코드를 작성하세요. <br>\n",
        "함수를 사용하거나 while문을 사용하여 작성할 수 있습니다.**"
      ],
      "metadata": {
        "id": "kfv8VwVkmW46"
      }
    },
    {
      "cell_type": "code",
      "source": [
        ""
      ],
      "metadata": {
        "id": "FJjMWlgsmsPF"
      },
      "execution_count": null,
      "outputs": []
    }
  ]
}