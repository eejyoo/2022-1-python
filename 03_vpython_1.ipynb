{
  "nbformat": 4,
  "nbformat_minor": 0,
  "metadata": {
    "colab": {
      "name": "03_vpython_1.ipynb",
      "provenance": [],
      "collapsed_sections": [],
      "authorship_tag": "ABX9TyOnIIeYLU49FdvtfLrg/NZA",
      "include_colab_link": true
    },
    "kernelspec": {
      "name": "python3",
      "display_name": "Python 3"
    },
    "language_info": {
      "name": "python"
    }
  },
  "cells": [
    {
      "cell_type": "markdown",
      "metadata": {
        "id": "view-in-github",
        "colab_type": "text"
      },
      "source": [
        "<a href=\"https://colab.research.google.com/github/eejyoo/2022-1-python/blob/main/03_vpython_1.ipynb\" target=\"_parent\"><img src=\"https://colab.research.google.com/assets/colab-badge.svg\" alt=\"Open In Colab\"/></a>"
      ]
    },
    {
      "cell_type": "markdown",
      "source": [
        "# Vpython 시작"
      ],
      "metadata": {
        "id": "Vg43ymTzRHZM"
      }
    },
    {
      "cell_type": "markdown",
      "source": [
        "(1) vpython이란?<br>\n",
        " - python 기반으로 3D 디스플레이나 애니메이션을 만들기 쉽게 도와줌.\n",
        "\n",
        "(2) 어떻게?<br>\n",
        " - https://www.glowscript.org/ 에서..<br>\n",
        " - 구글 계정으로 Sign in\n",
        "\n",
        "(3) 상자(box) 만들기\n",
        "\n",
        "```\n",
        "a = box()\n",
        "```\n",
        "(4) 구(sphere) 만들기\n",
        "\n",
        "\n",
        "```\n",
        "b = sphere()\n",
        "```\n"
      ],
      "metadata": {
        "id": "A5lr9uVqNpgv"
      }
    },
    {
      "cell_type": "code",
      "source": [
        "GlowScript 3.2 VPython\n",
        "\n",
        "a = box()\n",
        "b = sphere()"
      ],
      "metadata": {
        "id": "pDjqMg1INqFZ"
      },
      "execution_count": null,
      "outputs": []
    },
    {
      "cell_type": "markdown",
      "source": [
        "(5) 위치와 크기 속성 변경하여 box 이동하기\n",
        " - https://www.glowscript.org/docs/VPythonDocs/box.html\n",
        "\n",
        "```\n",
        "mybox = box(pos=vector(x0, y0, z0), length=L, height=H, width=W)\n",
        "```"
      ],
      "metadata": {
        "id": "yv_OxUsXQ-47"
      }
    },
    {
      "cell_type": "code",
      "source": [
        ""
      ],
      "metadata": {
        "id": "xDT2zxNr6Xyu"
      },
      "execution_count": null,
      "outputs": []
    },
    {
      "cell_type": "markdown",
      "source": [
        "(6) box: 그 외 여러 가지 속성 변경하기\n",
        " - color=color.red\n",
        " - color=vector(1,0,0)\n",
        " - opacity=1\n",
        " - shininess=0.6\n",
        " "
      ],
      "metadata": {
        "id": "NczzXqmZ-zxf"
      }
    },
    {
      "cell_type": "code",
      "source": [
        ""
      ],
      "metadata": {
        "id": "hdE0HRieJklh"
      },
      "execution_count": null,
      "outputs": []
    },
    {
      "cell_type": "markdown",
      "source": [
        "(7) shpere: 여러가지 속성 변경하기\n",
        " - pos=vector(x,y,z)\n",
        " - radius=1\n",
        " - color=vector(1,1,1)\n",
        " - opacity=1\n",
        " - shininess=0.6"
      ],
      "metadata": {
        "id": "i0F02hoVJeTG"
      }
    },
    {
      "cell_type": "code",
      "source": [
        ""
      ],
      "metadata": {
        "id": "WtTUnmcUKd-i"
      },
      "execution_count": null,
      "outputs": []
    },
    {
      "cell_type": "markdown",
      "source": [
        "**검사** *box와 shpere를 번갈아가며 4개 출력해보자<br>속성은 자유롭게 설정 가능*"
      ],
      "metadata": {
        "id": "XfAQK3S2KgBG"
      }
    }
  ]
}