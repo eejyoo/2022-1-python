{
  "nbformat": 4,
  "nbformat_minor": 0,
  "metadata": {
    "colab": {
      "name": "05_연습_1.ipynb",
      "provenance": [],
      "authorship_tag": "ABX9TyO88hpGGI+XvlSgQFrzSQF9",
      "include_colab_link": true
    },
    "kernelspec": {
      "name": "python3",
      "display_name": "Python 3"
    },
    "language_info": {
      "name": "python"
    }
  },
  "cells": [
    {
      "cell_type": "markdown",
      "metadata": {
        "id": "view-in-github",
        "colab_type": "text"
      },
      "source": [
        "<a href=\"https://colab.research.google.com/github/eejyoo/2022-1-python/blob/main/05_%EC%97%B0%EC%8A%B5_1.ipynb\" target=\"_parent\"><img src=\"https://colab.research.google.com/assets/colab-badge.svg\" alt=\"Open In Colab\"/></a>"
      ]
    },
    {
      "cell_type": "markdown",
      "source": [
        "# 1. 반복문"
      ],
      "metadata": {
        "id": "HKzmU50jjNWS"
      }
    },
    {
      "cell_type": "markdown",
      "source": [
        "# (1) 범위"
      ],
      "metadata": {
        "id": "ktHalhM0rwZ2"
      }
    },
    {
      "cell_type": "markdown",
      "source": [
        "\n",
        "- 매개변수에 숫자 1개<br>\n",
        "예) range(A) : 0부터 A-1까지의 정수 범위\n",
        "- 매개변수에 숫자 2개<br>\n",
        "예)  range(A, B) : A부터 B-1까지의 정수 범위\n",
        "- 매개변수에 숫자 3개<br>\n",
        "예)  range(A, B, C) : A부터 B-1까지의 정수 범위이면서 앞뒤의 숫자가 C만큼의 차이"
      ],
      "metadata": {
        "id": "o9PH4S48jToY"
      }
    },
    {
      "cell_type": "code",
      "execution_count": null,
      "metadata": {
        "id": "v9Z6jIubjI6t"
      },
      "outputs": [],
      "source": [
        "range(5)"
      ]
    },
    {
      "cell_type": "markdown",
      "source": [
        " - range(5)가 가지는 값을 list에 저장하면 확인할 수 있음\n",
        " - list: [ ]안에 여러 종류의 자료를 넣어 활용할 수 있음<br>"
      ],
      "metadata": {
        "id": "hYKqqLb4lk79"
      }
    },
    {
      "cell_type": "code",
      "source": [
        "list(range(5))"
      ],
      "metadata": {
        "id": "ZIsELYlek25g"
      },
      "execution_count": null,
      "outputs": []
    },
    {
      "cell_type": "code",
      "source": [
        "list(range(2,6))"
      ],
      "metadata": {
        "id": "OUTuPCAjlhl0"
      },
      "execution_count": null,
      "outputs": []
    },
    {
      "cell_type": "code",
      "source": [
        "list(range(1,10,2))"
      ],
      "metadata": {
        "id": "jGUYYa96mSdF"
      },
      "execution_count": null,
      "outputs": []
    },
    {
      "cell_type": "code",
      "source": [
        "list(range(10,1,-2))"
      ],
      "metadata": {
        "id": "tqpZQpm3maYr"
      },
      "execution_count": null,
      "outputs": []
    },
    {
      "cell_type": "markdown",
      "source": [
        "**QUIZ 1**<br>\n",
        "10~20 사이의 홀수(11,13,15,17,19)를 범위로 가지도록 코드를 작성하고 list로 확인하시오."
      ],
      "metadata": {
        "id": "QXFUXQhyozuZ"
      }
    },
    {
      "cell_type": "code",
      "source": [
        ""
      ],
      "metadata": {
        "id": "_I1pC9nppL5H"
      },
      "execution_count": null,
      "outputs": []
    },
    {
      "cell_type": "markdown",
      "source": [
        "#(2) for반복문: 범위와 함께 사용하기"
      ],
      "metadata": {
        "id": "-IrHiix5sBo0"
      }
    },
    {
      "cell_type": "markdown",
      "source": [
        "```\n",
        "for 변수 in 범위:\n",
        "    코드\n",
        "```\n",
        "\n"
      ],
      "metadata": {
        "id": "70Ijb_eqmd77"
      }
    },
    {
      "cell_type": "code",
      "source": [
        "for i in range(5):\n",
        "  print(i)"
      ],
      "metadata": {
        "id": "RG59aDzonwSJ"
      },
      "execution_count": null,
      "outputs": []
    },
    {
      "cell_type": "code",
      "source": [
        "sum = 0\n",
        "for i in range(5):\n",
        "  sum = sum + i\n",
        "print(sum)"
      ],
      "metadata": {
        "id": "Tc2m-AfboTVL"
      },
      "execution_count": null,
      "outputs": []
    },
    {
      "cell_type": "code",
      "source": [
        "# 위 코드와의 차이를 알아보세요.\n",
        "sum = 0\n",
        "for i in range(5):\n",
        "  sum = sum + i\n",
        "  print(sum)"
      ],
      "metadata": {
        "id": "Fw12FVeCsa1K"
      },
      "execution_count": null,
      "outputs": []
    },
    {
      "cell_type": "markdown",
      "source": [
        "\n",
        "\n",
        "```\n",
        "sum = 0             #변수 sum을 0으로 초기화\n",
        "for i in range(5):  #i는 0~4까지의 값을 가지며 반복\n",
        "  sum = sum + i     #sum(오른쪽)에 i를 더하여 sum(왼쪽)에 저장\n",
        "print(sum)          #for문을 빠져나와 sum의 값을 출력\n",
        "```\n",
        "\n"
      ],
      "metadata": {
        "id": "8QNHWjBpqEib"
      }
    },
    {
      "cell_type": "code",
      "source": [
        "for i in range(3,5):\n",
        "  print(i)"
      ],
      "metadata": {
        "id": "W-LdhrDhoAQ9"
      },
      "execution_count": null,
      "outputs": []
    },
    {
      "cell_type": "code",
      "source": [
        "for i in range(1,10,2):\n",
        "  print(i)"
      ],
      "metadata": {
        "id": "VxWnVFgAoFKw"
      },
      "execution_count": null,
      "outputs": []
    },
    {
      "cell_type": "markdown",
      "source": [
        "**QUIZ 2**<br>\n",
        "짝수(2,4,6,8,10)을 for문을 사용하여 출력하시오."
      ],
      "metadata": {
        "id": "elDWDwyqq8cb"
      }
    },
    {
      "cell_type": "code",
      "source": [
        ""
      ],
      "metadata": {
        "id": "VwPwHBHNrN6Y"
      },
      "execution_count": null,
      "outputs": []
    },
    {
      "cell_type": "markdown",
      "source": [
        "**QUIZ 3**<br>\n",
        "for문을 사용하여 짝수(2,4,6,8,10)의 합계를 구하고 출력하시오."
      ],
      "metadata": {
        "id": "xdu6erRSrPHM"
      }
    },
    {
      "cell_type": "code",
      "source": [
        ""
      ],
      "metadata": {
        "id": "ufzuD5oBrbo9"
      },
      "execution_count": null,
      "outputs": []
    }
  ]
}