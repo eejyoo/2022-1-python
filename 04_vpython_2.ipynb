{
  "nbformat": 4,
  "nbformat_minor": 0,
  "metadata": {
    "colab": {
      "name": "04_vpython_2.ipynb",
      "provenance": [],
      "collapsed_sections": [],
      "authorship_tag": "ABX9TyNKrhV6XQmefd6waVsiOx42",
      "include_colab_link": true
    },
    "kernelspec": {
      "name": "python3",
      "display_name": "Python 3"
    },
    "language_info": {
      "name": "python"
    }
  },
  "cells": [
    {
      "cell_type": "markdown",
      "metadata": {
        "id": "view-in-github",
        "colab_type": "text"
      },
      "source": [
        "<a href=\"https://colab.research.google.com/github/eejyoo/2022-1-python/blob/main/04_vpython_2.ipynb\" target=\"_parent\"><img src=\"https://colab.research.google.com/assets/colab-badge.svg\" alt=\"Open In Colab\"/></a>"
      ]
    },
    {
      "cell_type": "markdown",
      "source": [
        "# 규칙적으로 물체를 배열하기"
      ],
      "metadata": {
        "id": "NbQX8IazBRxw"
      }
    },
    {
      "cell_type": "markdown",
      "source": [
        "(1) 위치 속성을 변경하여 구를 일렬로 출력해보자."
      ],
      "metadata": {
        "id": "ZdOc6XIKK0vW"
      }
    },
    {
      "cell_type": "code",
      "source": [
        "ball1 = sphere(pos=vector(,,), radius=, color)"
      ],
      "metadata": {
        "id": "-5ulB1HaLLox"
      },
      "execution_count": null,
      "outputs": []
    },
    {
      "cell_type": "markdown",
      "source": [
        "(2) 반복문으로 구를 출력해보자.\n",
        " - 반복문: 규칙적으로 반복하는 코드를 간단하게 만들어줄 수 있음.\n",
        " - while: 다음 기회에...\n",
        " - for\n",
        "  - range(): 범위를 구하는 함수\n",
        "  - in, not in: 데이터 안에 찾고자 하는 것이 있는지 없는지 확인하는 연산자 "
      ],
      "metadata": {
        "id": "c1Aa7z-oZxj9"
      }
    },
    {
      "cell_type": "code",
      "source": [
        "for i in range(3):\n",
        "  print(i)"
      ],
      "metadata": {
        "colab": {
          "base_uri": "https://localhost:8080/"
        },
        "id": "cb3xA9epbU51",
        "outputId": "9abbf959-1497-4cee-ad6f-794cad72b7ca"
      },
      "execution_count": null,
      "outputs": [
        {
          "output_type": "stream",
          "name": "stdout",
          "text": [
            "0\n",
            "1\n",
            "2\n"
          ]
        }
      ]
    },
    {
      "cell_type": "code",
      "source": [
        "for i in range(2,5):\n",
        "  print(i)"
      ],
      "metadata": {
        "colab": {
          "base_uri": "https://localhost:8080/"
        },
        "id": "HB9xNGV8b01D",
        "outputId": "89939980-67f2-4259-df02-0be2917c9afa"
      },
      "execution_count": null,
      "outputs": [
        {
          "output_type": "stream",
          "name": "stdout",
          "text": [
            "2\n",
            "3\n",
            "4\n"
          ]
        }
      ]
    },
    {
      "cell_type": "code",
      "source": [
        "for i in range(5,10,2):\n",
        "  print(i)"
      ],
      "metadata": {
        "colab": {
          "base_uri": "https://localhost:8080/"
        },
        "id": "YFaMyZoObpwa",
        "outputId": "91172e40-cc62-4dfd-c7f8-8ee7cc658c3d"
      },
      "execution_count": null,
      "outputs": [
        {
          "output_type": "stream",
          "name": "stdout",
          "text": [
            "5\n",
            "7\n",
            "9\n"
          ]
        }
      ]
    },
    {
      "cell_type": "code",
      "source": [
        "for i in range(3,0,-1):\n",
        "  print(i)\n",
        "print(i)"
      ],
      "metadata": {
        "colab": {
          "base_uri": "https://localhost:8080/"
        },
        "id": "N1FGHmwqbhrW",
        "outputId": "617b4864-4a49-42cf-971d-40857f54bacc"
      },
      "execution_count": null,
      "outputs": [
        {
          "output_type": "stream",
          "name": "stdout",
          "text": [
            "3\n",
            "2\n",
            "1\n",
            "1\n"
          ]
        }
      ]
    },
    {
      "cell_type": "markdown",
      "source": [
        "(3) 속도를 조절하여 구를 하나씩 차례대로 출력해보자.\n",
        " - https://www.glowscript.org/docs/VPythonDocs/rate.html\n",
        " - rate(s): 1초동안 s번 실행\n",
        " - sleep(s): s초동안 멈춤"
      ],
      "metadata": {
        "id": "uktzpZ6KdlBn"
      }
    },
    {
      "cell_type": "markdown",
      "source": [
        "(4) 구의 색상을 2가지가 번갈아가며 나타나도록 수정해보자.\n",
        " - 홀수인 경우를 구하기 위한 식은?\n",
        " - 관계연산자\n",
        "  - 같다: ==\n",
        "  - 같지않다: !=\n",
        "  - 크다: >\n",
        "  - 작다: <\n",
        "  - 크거나 같다: >=\n",
        "  - 작거나 같다: <=\n",
        " - 조건문: 코드를 실행하게 하는 조건을 작성\n",
        " - if: 조건이 참(True)일 때 코드를 실행"
      ],
      "metadata": {
        "id": "J24-IFtuiX_u"
      }
    },
    {
      "cell_type": "code",
      "source": [
        "a = 5\n",
        "if a == 5:\n",
        "  print(True)"
      ],
      "metadata": {
        "id": "xi30b1Ewj9vk"
      },
      "execution_count": null,
      "outputs": []
    },
    {
      "cell_type": "code",
      "source": [
        "if 6 > 3:\n",
        "  print(\"크다\")\n",
        "print(\"끝\")"
      ],
      "metadata": {
        "id": "jyHEYwzRkTNN"
      },
      "execution_count": null,
      "outputs": []
    },
    {
      "cell_type": "code",
      "source": [
        "if 10 > 4:\n",
        "  print(\"big\")\n",
        "else:\n",
        "  print(\"small\")"
      ],
      "metadata": {
        "id": "d9sgBTdMkd7h"
      },
      "execution_count": null,
      "outputs": []
    },
    {
      "cell_type": "code",
      "source": [
        "key = 10\n",
        "if key >= 5:\n",
        "  print(\"5 이상\")\n",
        "elif key >= 10:\n",
        "  print(\"10 이상\")\n",
        "else:\n",
        "  print(\"그 외\")"
      ],
      "metadata": {
        "id": "8fo6-p65kzRf"
      },
      "execution_count": null,
      "outputs": []
    },
    {
      "cell_type": "markdown",
      "source": [
        "**검사2** *반복문과 조건문, rate함수를 2가지 이상 사용하여 애니메이션을 작성해보자.*"
      ],
      "metadata": {
        "id": "r5w6Bz0Glfny"
      }
    }
  ]
}