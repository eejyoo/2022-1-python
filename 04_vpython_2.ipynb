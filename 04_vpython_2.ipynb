{
  "nbformat": 4,
  "nbformat_minor": 0,
  "metadata": {
    "colab": {
      "name": "04_vpython_2.ipynb",
      "provenance": [],
      "collapsed_sections": [],
      "authorship_tag": "ABX9TyMWZvSJ7Us/v8qa9hllGUHm",
      "include_colab_link": true
    },
    "kernelspec": {
      "name": "python3",
      "display_name": "Python 3"
    },
    "language_info": {
      "name": "python"
    }
  },
  "cells": [
    {
      "cell_type": "markdown",
      "metadata": {
        "id": "view-in-github",
        "colab_type": "text"
      },
      "source": [
        "<a href=\"https://colab.research.google.com/github/eejyoo/2022-1-python/blob/main/04_vpython_2.ipynb\" target=\"_parent\"><img src=\"https://colab.research.google.com/assets/colab-badge.svg\" alt=\"Open In Colab\"/></a>"
      ]
    },
    {
      "cell_type": "markdown",
      "source": [
        "# 규칙적으로 물체를 배열하기"
      ],
      "metadata": {
        "id": "NbQX8IazBRxw"
      }
    },
    {
      "cell_type": "markdown",
      "source": [
        "(1) 위치 속성을 변경하여 구를 일렬로 출력해보자."
      ],
      "metadata": {
        "id": "ZdOc6XIKK0vW"
      }
    },
    {
      "cell_type": "code",
      "source": [
        "ball1 = sphere(pos=vector(,,), radius=, color)"
      ],
      "metadata": {
        "id": "-5ulB1HaLLox"
      },
      "execution_count": null,
      "outputs": []
    },
    {
      "cell_type": "markdown",
      "source": [
        "(2) 반복문으로 구를 출력해보자.\n",
        " - 반복문: 규칙적으로 반복하는 코드를 간단하게 만들어줄 수 있음.\n",
        " - while: 다음 기회에...\n",
        " - for\n",
        "  - range(): 범위를 구하는 함수\n",
        "  - in, not in: 데이터 안에 찾고자 하는 것이 있는지 없는지 확인하는 연산자 "
      ],
      "metadata": {
        "id": "c1Aa7z-oZxj9"
      }
    },
    {
      "cell_type": "code",
      "source": [
        "for i in range(3):\n",
        "  print(i)"
      ],
      "metadata": {
        "id": "cb3xA9epbU51"
      },
      "execution_count": null,
      "outputs": []
    },
    {
      "cell_type": "code",
      "source": [
        "for i in range(2,5):\n",
        "  print(i)"
      ],
      "metadata": {
        "id": "HB9xNGV8b01D"
      },
      "execution_count": null,
      "outputs": []
    },
    {
      "cell_type": "code",
      "source": [
        "for i in range(5,10,2):\n",
        "  print(i)"
      ],
      "metadata": {
        "id": "YFaMyZoObpwa"
      },
      "execution_count": null,
      "outputs": []
    },
    {
      "cell_type": "code",
      "source": [
        "for i in range(3,0,-1):\n",
        "  print(i)\n",
        "print(i)"
      ],
      "metadata": {
        "id": "N1FGHmwqbhrW"
      },
      "execution_count": null,
      "outputs": []
    },
    {
      "cell_type": "markdown",
      "source": [
        " - 위치 좌표 구하기<br>\n",
        "![제목 없음.png](data:image/png;base64,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)<br>\n",
        " - i값에 따른 x좌표 구하기\n",
        "![제목 없음1.png](data:image/png;base64,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)"
      ],
      "metadata": {
        "id": "6zIcfHyJryo2"
      }
    },
    {
      "cell_type": "markdown",
      "source": [
        "(3) 속도를 조절하여 구를 하나씩 차례대로 출력해보자.\n",
        " - https://www.glowscript.org/docs/VPythonDocs/rate.html\n",
        " - rate(s): 1초동안 s번 실행\n",
        " - sleep(s): s초동안 멈춤"
      ],
      "metadata": {
        "id": "uktzpZ6KdlBn"
      }
    },
    {
      "cell_type": "code",
      "source": [
        "for i in range(5):\n",
        "  rate()\n",
        "  ball = sphere(pos=vector(,,), radius=, color=)\n",
        "  print(i, ball.pos.x)"
      ],
      "metadata": {
        "id": "ul2sz4-iosaz"
      },
      "execution_count": null,
      "outputs": []
    },
    {
      "cell_type": "markdown",
      "source": [
        "(4) 구의 색상을 2가지가 번갈아가며 나타나도록 수정해보자.\n",
        " - 홀수인 경우를 구하기 위한 식은?\n",
        " - 관계연산자\n",
        "  - 같다: ==\n",
        "  - 같지않다: !=\n",
        "  - 크다: >\n",
        "  - 작다: <\n",
        "  - 크거나 같다: >=\n",
        "  - 작거나 같다: <=\n",
        " - 조건문: 코드를 실행하게 하는 조건을 작성\n",
        " - if: 조건이 참(True)일 때 코드를 실행"
      ],
      "metadata": {
        "id": "J24-IFtuiX_u"
      }
    },
    {
      "cell_type": "code",
      "source": [
        "a = 5\n",
        "if a == 5:\n",
        "  print(True)"
      ],
      "metadata": {
        "id": "xi30b1Ewj9vk"
      },
      "execution_count": null,
      "outputs": []
    },
    {
      "cell_type": "code",
      "source": [
        "if 6 > 3:\n",
        "  print(\"크다\")\n",
        "print(\"끝\")"
      ],
      "metadata": {
        "id": "jyHEYwzRkTNN"
      },
      "execution_count": null,
      "outputs": []
    },
    {
      "cell_type": "code",
      "source": [
        "if 10 > 4:\n",
        "  print(\"big\")\n",
        "else:\n",
        "  print(\"small\")"
      ],
      "metadata": {
        "id": "d9sgBTdMkd7h"
      },
      "execution_count": null,
      "outputs": []
    },
    {
      "cell_type": "code",
      "source": [
        "key = 10\n",
        "if key >= 5:\n",
        "  print(\"5 이상\")\n",
        "elif key >= 10:\n",
        "  print(\"10 이상\")\n",
        "else:\n",
        "  print(\"그 외\")"
      ],
      "metadata": {
        "id": "8fo6-p65kzRf"
      },
      "execution_count": null,
      "outputs": []
    },
    {
      "cell_type": "code",
      "source": [
        "for i in range(5):\n",
        "  rate()\n",
        "  if :\n",
        "    ball = sphere(pos=vector(,,), radius=, color=color.red)\n",
        "  else:\n",
        "    ball = sphere(pos=vector(,,), radius=, color=color.blue)\n",
        "  print(i, ball.pos.x)"
      ],
      "metadata": {
        "id": "xWZpAirevBL2"
      },
      "execution_count": null,
      "outputs": []
    },
    {
      "cell_type": "markdown",
      "source": [
        " - 다음을 실행해보고 코드를 분석해보자.<br>\n",
        "  - make_trail=True\n",
        "  - ball.pos.x += 1\n",
        "  - ball.pos.x = ball.pos.x + 1"
      ],
      "metadata": {
        "id": "qmkzf1LHypUD"
      }
    },
    {
      "cell_type": "code",
      "source": [
        "Web VPython 3.2\n",
        "\n",
        "ball = sphere(pos=vector(-5,5,0), radius=0.5, make_trail=True)\n",
        "for i in range(10):\n",
        "    rate(2)\n",
        "    ball.pos.x += 1     #ball.pos.x = ball.pos.x + 1\n",
        "for i in range(10):\n",
        "    rate(2)\n",
        "    ball.pos.y -= 1"
      ],
      "metadata": {
        "id": "3VMcwuHNyn8R"
      },
      "execution_count": null,
      "outputs": []
    },
    {
      "cell_type": "markdown",
      "source": [
        "**검사2** *반복문과 조건문, rate함수를 2가지 이상 사용하여 애니메이션을 작성해보자.*"
      ],
      "metadata": {
        "id": "r5w6Bz0Glfny"
      }
    }
  ]
}