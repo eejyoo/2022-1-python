{
  "nbformat": 4,
  "nbformat_minor": 0,
  "metadata": {
    "colab": {
      "name": "09_vpython_5.ipynb",
      "provenance": [],
      "collapsed_sections": [],
      "authorship_tag": "ABX9TyOpZMawC3djkOpIdvjKekF4",
      "include_colab_link": true
    },
    "kernelspec": {
      "name": "python3",
      "display_name": "Python 3"
    },
    "language_info": {
      "name": "python"
    }
  },
  "cells": [
    {
      "cell_type": "markdown",
      "metadata": {
        "id": "view-in-github",
        "colab_type": "text"
      },
      "source": [
        "<a href=\"https://colab.research.google.com/github/eejyoo/2022-1-python/blob/main/09_vpython_5.ipynb\" target=\"_parent\"><img src=\"https://colab.research.google.com/assets/colab-badge.svg\" alt=\"Open In Colab\"/></a>"
      ]
    },
    {
      "cell_type": "markdown",
      "source": [
        "#widget"
      ],
      "metadata": {
        "id": "ewG71yCTqNEb"
      }
    },
    {
      "cell_type": "markdown",
      "source": [
        "(1) button\n",
        " - pos : 위젯 위치<br>\n",
        "  - scene.title_anchor / scene.caption_anchor / print_anchor\n",
        " - text : 버튼 위 글씨\n",
        " - color : 버튼 글씨 색상\n",
        " - background : 버튼 배경 색상\n",
        " - bind : 버튼을 클릭할 때 호출되는 함수 이름\n",
        " - disabled : True 이면 사용중지\n",
        " - delete() : 삭제"
      ],
      "metadata": {
        "id": "AWBB2SqbyAhu"
      }
    },
    {
      "cell_type": "code",
      "source": [
        "def B(b):\n",
        "  print(\"나는 버튼이야.\", b.text)\n",
        "button(bind=B, text='Click me!')\n",
        "scene.append_to_caption('\\n\\n')"
      ],
      "metadata": {
        "id": "8SmtFXY6yD_E"
      },
      "execution_count": null,
      "outputs": []
    },
    {
      "cell_type": "markdown",
      "source": [
        "(2) radio\n",
        " - pos : 위젯 위치\n",
        " - text : 라디오 버튼 옆 글씨\n",
        " - bind : 버튼을 클릭할 때 호출되는 함수 이름\n",
        " - checked : True인 경우 라디오 버튼이 강조됨. 기본은 False\n",
        " - disabled : True 이면 사용중지\n",
        " - delete() : 삭제\n",
        " - name : 그룹으로 묶고 싶은 버튼은 같은 이름을 부여하면 같은 그룹에서 1개만 선택할 수 있음"
      ],
      "metadata": {
        "id": "OosCe1Y2yGof"
      }
    },
    {
      "cell_type": "code",
      "source": [
        "def R(r):\n",
        "  print(r.checked)\n",
        "radio(bind=R, text='Run')\n",
        "scene.append_to_caption('\\n\\n')"
      ],
      "metadata": {
        "id": "iaKwPxCCrQp1"
      },
      "execution_count": null,
      "outputs": []
    },
    {
      "cell_type": "code",
      "source": [
        "def R1(r):\n",
        "    print(r.checked)\n",
        "radio(name='move', bind=R1, text='Run')\n",
        "radio(name='move', bind=R1, text='Jump', checked=True)\n",
        "scene.append_to_caption('\\n\\n')"
      ],
      "metadata": {
        "id": "KTph2cVvsaR4"
      },
      "execution_count": null,
      "outputs": []
    },
    {
      "cell_type": "markdown",
      "source": [
        "(3) checkbox\n",
        " - pos\n",
        " - text\n",
        " - bind\n",
        " - checked\n",
        " - disabled\n",
        " - delete()"
      ],
      "metadata": {
        "id": "IBRpkpZEsdKS"
      }
    },
    {
      "cell_type": "code",
      "source": [
        "def C(r):\n",
        "  print(r.checked)\n",
        "checkbox(bind=C, text='Run')\n",
        "scene.append_to_caption('\\n\\n')"
      ],
      "metadata": {
        "id": "l7QogKK3s7AI"
      },
      "execution_count": null,
      "outputs": []
    },
    {
      "cell_type": "markdown",
      "source": [
        "(4) slider\n",
        " "
      ],
      "metadata": {
        "id": "W-gw7Uv2tM9H"
      }
    },
    {
      "cell_type": "markdown",
      "source": [
        " - pos\n",
        " - vertical : True이면 세로로\n",
        " - bind\n",
        " - min, max : 슬라이더의 최솟값, 최댓값\n",
        " - step : 슬라이더를 클릭하거나 드래그할 때 증감 간격\n",
        " - value : 슬라이더의 현재 값\n",
        " - length : 슬라이더의 길이, default는 400\n",
        " - width : 슬라이더의 너비, default는 10\n",
        " - left, right, top, bottom : 슬라이더 주변의 여백, default는 옆은 12, 위아래는 8\n",
        " - align : 화면에 정렬\n",
        "  - left / right\n",
        " - disabled\n",
        " - delete()"
      ],
      "metadata": {
        "id": "NkZsJoFIlJGE"
      }
    },
    {
      "cell_type": "code",
      "source": [
        "def S(s):\n",
        "    print(s.value)\n",
        "slider( bind=S )\n",
        "scene.append_to_caption('\\n\\n')"
      ],
      "metadata": {
        "id": "jxfwaEaJmPrj"
      },
      "execution_count": null,
      "outputs": []
    },
    {
      "cell_type": "markdown",
      "source": [
        "(5) menu\n",
        " - pos\n",
        " - choices : 메뉴에 표시할 내용 리스트\n",
        " - selected : 선택된 내용\n",
        " - index : 선택된 내용이 리스트의 어디에 자리하고 있는지, index는 0번부터 시작함\n",
        " - bind\n",
        " - disabled\n",
        " - delete()"
      ],
      "metadata": {
        "id": "tJZh0dLAmc54"
      }
    },
    {
      "cell_type": "code",
      "source": [
        "def M(m):\n",
        "    print(m.selected, m.index)\n",
        "menu( choices=['cat', 'dog', 'horse'], bind=M )\n",
        "scene.append_to_caption('\\n\\n')"
      ],
      "metadata": {
        "id": "dDEUhCMinTcF"
      },
      "execution_count": null,
      "outputs": []
    },
    {
      "cell_type": "markdown",
      "source": [
        "(6) winput\n",
        " - pos\n",
        " - bind\n",
        " - prompt : 입력창 왼쪽에 나타나는 안내문\n",
        " - type \n",
        "  - numeric / text\n",
        "  - default는 numeric : 수식을 쓸 수 있고 잘못된 수식일 경우 에러 메시지, bind 되지 않음\n",
        " - width, height : 인풋박스의 너비(default 100), 높이(default 20)\n",
        " - text : 박스에 표시되는 텍스트\n",
        " - number : type이 numeric인 경우의 계산 결과\n",
        "  - numeric 박스의 이름이 W이고 3+5를 입력했다면, W.text는 \"3+5\"이고, W.number는 8임\n",
        " - disabled\n",
        " - delete()"
      ],
      "metadata": {
        "id": "6lUOV7mhnW4D"
      }
    },
    {
      "cell_type": "code",
      "source": [
        "def T(s):\n",
        "    print(s.text, s.number)\n",
        "winput( bind=T )"
      ],
      "metadata": {
        "id": "cX8TvVpDqySp"
      },
      "execution_count": null,
      "outputs": []
    },
    {
      "cell_type": "markdown",
      "source": [
        "(7) input"
      ],
      "metadata": {
        "id": "aJf-56T5q10K"
      }
    },
    {
      "cell_type": "code",
      "source": [
        "s = input('What is your name?')"
      ],
      "metadata": {
        "id": "8AF7RqmqrDWw"
      },
      "execution_count": null,
      "outputs": []
    },
    {
      "cell_type": "markdown",
      "source": [
        "(8) wtext\n",
        " - pos\n",
        " - text\n",
        " - delete()"
      ],
      "metadata": {
        "id": "zOBWSUw9q8Rh"
      }
    }
  ]
}