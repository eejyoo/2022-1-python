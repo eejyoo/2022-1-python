{
  "nbformat": 4,
  "nbformat_minor": 0,
  "metadata": {
    "colab": {
      "name": "08_vpython_4.ipynb",
      "provenance": [],
      "collapsed_sections": [],
      "authorship_tag": "ABX9TyP6tLl23AO5497/PEVkvtLq",
      "include_colab_link": true
    },
    "kernelspec": {
      "name": "python3",
      "display_name": "Python 3"
    },
    "language_info": {
      "name": "python"
    }
  },
  "cells": [
    {
      "cell_type": "markdown",
      "metadata": {
        "id": "view-in-github",
        "colab_type": "text"
      },
      "source": [
        "<a href=\"https://colab.research.google.com/github/eejyoo/2022-1-python/blob/main/08_vpython_4.ipynb\" target=\"_parent\"><img src=\"https://colab.research.google.com/assets/colab-badge.svg\" alt=\"Open In Colab\"/></a>"
      ]
    },
    {
      "cell_type": "markdown",
      "source": [
        "#함수를 만들어 일 시키기"
      ],
      "metadata": {
        "id": "SRqnGOFCaty3"
      }
    },
    {
      "cell_type": "markdown",
      "source": [
        "(1) 함수\n",
        " - 함수를 이용해 실행 과정을 정해놓을 수 있음\n",
        " - def 로 정의함\n",
        "\n",
        "\n",
        "```\n",
        "def 함수명(매개변수):\n",
        "  실행할 내용\n",
        "  return 반환값\n",
        "```\n",
        "\n"
      ],
      "metadata": {
        "id": "_hO3iZvNbDpb"
      }
    },
    {
      "cell_type": "code",
      "source": [
        "def sayhello():\n",
        "  print('안녕~ 나는 1학년 8반 만두야')\n",
        "  print('만나서 반가워')"
      ],
      "metadata": {
        "id": "V0qwyGWddWjE"
      },
      "execution_count": null,
      "outputs": []
    },
    {
      "cell_type": "code",
      "source": [
        "sayhello()"
      ],
      "metadata": {
        "id": "zfrFLo3weAaU"
      },
      "execution_count": null,
      "outputs": []
    },
    {
      "cell_type": "code",
      "source": [
        "def multiply13(a):\n",
        "  return a*13"
      ],
      "metadata": {
        "id": "lpFDTnloeEPg"
      },
      "execution_count": null,
      "outputs": []
    },
    {
      "cell_type": "code",
      "source": [
        "multiply13(11)"
      ],
      "metadata": {
        "id": "meO5RIuseNfa"
      },
      "execution_count": null,
      "outputs": []
    },
    {
      "cell_type": "code",
      "source": [
        "def multiply13in():\n",
        "  a = int(input())\n",
        "  return a*13"
      ],
      "metadata": {
        "id": "HfRfQcWveQA5"
      },
      "execution_count": null,
      "outputs": []
    },
    {
      "cell_type": "code",
      "source": [
        "multiply13in()"
      ],
      "metadata": {
        "id": "nzFD-ccgfNkJ"
      },
      "execution_count": null,
      "outputs": []
    },
    {
      "cell_type": "markdown",
      "source": [
        "(2) 지역변수 / 전역변수\n",
        " - 지역변수: 함수 안에서만 사용되는 변수\n",
        " - 전역변수: 프로그램 전체에서 사용되는 변수\n",
        "\n"
      ],
      "metadata": {
        "id": "c-97IF1MfP5b"
      }
    },
    {
      "cell_type": "code",
      "source": [
        "# a와 b의 변수의 차이를 알아보세요.\n",
        "a = 10\n",
        "def f():\n",
        "  b = 20\n",
        "  print(a, b)"
      ],
      "metadata": {
        "id": "etlFWbo3iBzj"
      },
      "execution_count": null,
      "outputs": []
    },
    {
      "cell_type": "code",
      "source": [
        "f()"
      ],
      "metadata": {
        "id": "ijQlnrZ2iONb"
      },
      "execution_count": null,
      "outputs": []
    },
    {
      "cell_type": "code",
      "source": [
        "print(a)"
      ],
      "metadata": {
        "id": "T-hV1QMDiQ73"
      },
      "execution_count": null,
      "outputs": []
    },
    {
      "cell_type": "code",
      "source": [
        "print(b)"
      ],
      "metadata": {
        "id": "yV89MIJJiSiG"
      },
      "execution_count": null,
      "outputs": []
    },
    {
      "cell_type": "code",
      "source": [
        "c = 30\n",
        "def ff():\n",
        "  c = 40\n",
        "  print(c)"
      ],
      "metadata": {
        "id": "cF--oSRDiTUE"
      },
      "execution_count": null,
      "outputs": []
    },
    {
      "cell_type": "code",
      "source": [
        "ff()"
      ],
      "metadata": {
        "id": "bNFstRoviyVV"
      },
      "execution_count": null,
      "outputs": []
    },
    {
      "cell_type": "code",
      "source": [
        "print(c)"
      ],
      "metadata": {
        "id": "M3Yaol0qizNH"
      },
      "execution_count": null,
      "outputs": []
    },
    {
      "cell_type": "code",
      "source": [
        "d = 30\n",
        "def fff():\n",
        "  global d\n",
        "  d = 40\n",
        "  print(d)"
      ],
      "metadata": {
        "id": "-ZopS5Tziz8R"
      },
      "execution_count": null,
      "outputs": []
    },
    {
      "cell_type": "code",
      "source": [
        "fff()"
      ],
      "metadata": {
        "id": "X0woCwiVi9Vm"
      },
      "execution_count": null,
      "outputs": []
    },
    {
      "cell_type": "code",
      "source": [
        "print(d)"
      ],
      "metadata": {
        "id": "sgYf5bBoi-Js"
      },
      "execution_count": null,
      "outputs": []
    },
    {
      "cell_type": "markdown",
      "source": [
        "**VPYTHON TRY**<br>\n",
        "1. 화면크기와 범위를 조절합니다."
      ],
      "metadata": {
        "id": "33Wt_wjPi_1o"
      }
    },
    {
      "cell_type": "code",
      "source": [
        "scene.width = 350\n",
        "scene.height = 300\n",
        "scene.range = 1.3"
      ],
      "metadata": {
        "id": "UQPWrw7UjemD"
      },
      "execution_count": null,
      "outputs": []
    },
    {
      "cell_type": "markdown",
      "source": [
        "2. box, cone, pramid를 만들고 box만 보이게 합니다. 각 도형은 변수에 저장하고 크기도 적절하게 수정하세요."
      ],
      "metadata": {
        "id": "5Q1GlN_jj5nf"
      }
    },
    {
      "cell_type": "code",
      "source": [
        "b = box()\n",
        "c = cone()\n",
        "p = pramid()"
      ],
      "metadata": {
        "id": "LqCqDclfkDRH"
      },
      "execution_count": null,
      "outputs": []
    },
    {
      "cell_type": "markdown",
      "source": [
        "3. menu를 만듭니다. box, cone, pramid를 선택할 수 있는 드롭다운박스를 작성하고, 현재 선택되어 있는 도형 정보를 저장하고 출력하는 함수를 만드세요."
      ],
      "metadata": {
        "id": "Y5eBSPCVQeYT"
      }
    },
    {
      "cell_type": "code",
      "source": [
        "def M(m):\n",
        "  "
      ],
      "metadata": {
        "id": "EabZ5fI8Ref3"
      },
      "execution_count": null,
      "outputs": []
    },
    {
      "cell_type": "code",
      "source": [
        "menu(choices=['Choose an object', 'box', 'cone', 'pyramid'], bind=M)"
      ],
      "metadata": {
        "id": "z07_8S2ARqZ-"
      },
      "execution_count": null,
      "outputs": []
    }
  ]
}