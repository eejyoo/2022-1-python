{
  "nbformat": 4,
  "nbformat_minor": 0,
  "metadata": {
    "colab": {
      "name": "00_python_1.ipynb",
      "provenance": [],
      "collapsed_sections": [
        "M4W7ihTq5rch",
        "QDGNQu5L9nBg"
      ],
      "authorship_tag": "ABX9TyPj4RD+i7K+Ondwu91kJeIS",
      "include_colab_link": true
    },
    "kernelspec": {
      "name": "python3",
      "display_name": "Python 3"
    },
    "language_info": {
      "name": "python"
    }
  },
  "cells": [
    {
      "cell_type": "markdown",
      "metadata": {
        "id": "view-in-github",
        "colab_type": "text"
      },
      "source": [
        "<a href=\"https://colab.research.google.com/github/eejyoo/2022-1-python/blob/main/00_python_1.ipynb\" target=\"_parent\"><img src=\"https://colab.research.google.com/assets/colab-badge.svg\" alt=\"Open In Colab\"/></a>"
      ]
    },
    {
      "cell_type": "markdown",
      "source": [
        "# 0. 파이썬 시작"
      ],
      "metadata": {
        "id": "M4W7ihTq5rch"
      }
    },
    {
      "cell_type": "markdown",
      "source": [
        "(1) 설치 방법\n",
        " - https://www.python.org 에서 파이썬 다운로드 후 IDLE(통합개발환경) 사용\n",
        " - https://www.anaconda.com 에서 아나콘다(다양한 패키지를 포함하고 있음) 다운로드 후 Jupyter Notebook 사용\n",
        " - https://www.jetbrains.com 에서 파이참 다운로드 후 사용\n",
        " - 구글의 Colaboratory 사용(Jupyter Notebook을 웹으로 구현, 구글의 GPU 활용 가능, 각종 패키지 사용 가능)\n",
        "\n",
        "(2) Colab(코랩)은?\n",
        " - 구글에서 제공하는 클라우드 기반의 주피터 노트북\n",
        " - 큰 파이썬 파일도 셀 단위로 나누어 번역, 실행하면서 인터랙티브한 동작이 가능\n",
        " - 데이터 분석에 필요한 시각화가 효과적\n",
        " - GitHub 에 파일을 그대로 올리거나 가져오기 쉬움\n",
        "\n",
        "\n",
        "---\n",
        "\n",
        "\n",
        "\n",
        "**<해보기!>**\n",
        "*셀을 추가하며 여러 가지 파이썬 코드를 작성하고 실행하시오.*<br>\n",
        "셀 실행: Shift + Enter, Ctrl + Enter<br>\n",
        "셀 추가: Ctrl + M, A(위), Ctrl + M, B(아래)"
      ],
      "metadata": {
        "id": "NkPS-YBt93WC"
      }
    },
    {
      "cell_type": "code",
      "source": [
        ""
      ],
      "metadata": {
        "id": "uiXRMJfvBdaJ"
      },
      "execution_count": null,
      "outputs": []
    },
    {
      "cell_type": "markdown",
      "source": [
        "# 1. 출력"
      ],
      "metadata": {
        "id": "QDGNQu5L9nBg"
      }
    },
    {
      "cell_type": "markdown",
      "source": [
        "(1) 출력\n",
        " - print() 를 사용함.\n",
        " - ()안에 수식 또는 문자열을 작성함.\n",
        "\n",
        "\n",
        "```\n",
        "print(100)\n",
        "print('hello')\n",
        "print(10-2)\n",
        "```\n",
        "(2) 산술연산자 알아보기\n",
        " - 덧셈: +\n",
        " - 뺄셈: -\n",
        " - 곱셈: *\n",
        " - 제곱: **\n",
        " - 나눗셈: /\n",
        " - 정수나눗셈: //\n",
        " - 나머지: %\n",
        "\n",
        "\n",
        "---\n",
        "\n",
        "**해보기1** *산술연산자를 이용하여 다양한 사칙연산 결과를 출력하시오.*\n"
      ],
      "metadata": {
        "id": "otYGbYIvBkM4"
      }
    },
    {
      "cell_type": "code",
      "source": [
        ""
      ],
      "metadata": {
        "id": "JdXLhJz1F4Pa"
      },
      "execution_count": null,
      "outputs": []
    },
    {
      "cell_type": "markdown",
      "source": [
        "**해보기2** *밑변이 3, 높이가 5인 삼각형의 넓이를 구하시오.*<br>\n",
        "출력 예시: 밑변 3, 높이 5인 삼각형의 넓이는 7.5 이다."
      ],
      "metadata": {
        "id": "MryIbbyaVlaM"
      }
    },
    {
      "cell_type": "code",
      "source": [
        ""
      ],
      "metadata": {
        "id": "B-xPxScTXdDu"
      },
      "execution_count": null,
      "outputs": []
    },
    {
      "cell_type": "markdown",
      "source": [
        "**검사** *귤 20개를 3명에게 나눠주면 몇 개씩 줄 수 있고, 몇 개의 귤이 남는지 구하시오.*<br>\n",
        "출력 예시: 6 개씩 나눠주고, 2 개가 남는다."
      ],
      "metadata": {
        "id": "gMzCZsqRXXJU"
      }
    },
    {
      "cell_type": "code",
      "source": [
        ""
      ],
      "metadata": {
        "id": "8WeAAfjcYHhB"
      },
      "execution_count": null,
      "outputs": []
    }
  ]
}